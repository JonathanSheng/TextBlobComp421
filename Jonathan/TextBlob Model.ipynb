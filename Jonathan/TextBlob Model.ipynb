{
 "cells": [
  {
   "cell_type": "code",
   "execution_count": 7,
   "metadata": {},
   "outputs": [
    {
     "name": "stdout",
     "output_type": "stream",
     "text": [
      "Requirement already satisfied: textblob in c:\\users\\19174\\anaconda3\\lib\\site-packages (0.15.3)\n",
      "Requirement already satisfied: nltk>=3.1 in c:\\users\\19174\\anaconda3\\lib\\site-packages (from textblob) (3.4.4)\n",
      "Requirement already satisfied: six in c:\\users\\19174\\anaconda3\\lib\\site-packages (from nltk>=3.1->textblob) (1.12.0)\n"
     ]
    }
   ],
   "source": [
    "!pip install textblob"
   ]
  },
  {
   "cell_type": "code",
   "execution_count": 17,
   "metadata": {},
   "outputs": [
    {
     "name": "stderr",
     "output_type": "stream",
     "text": [
      "[nltk_data] Downloading package punkt to\n",
      "[nltk_data]     C:\\Users\\19174\\AppData\\Roaming\\nltk_data...\n",
      "[nltk_data]   Package punkt is already up-to-date!\n"
     ]
    },
    {
     "data": {
      "text/plain": [
       "True"
      ]
     },
     "execution_count": 17,
     "metadata": {},
     "output_type": "execute_result"
    }
   ],
   "source": [
    "import textblob            #to import\n",
    "from textblob import TextBlob\n",
    "from textblob.classifiers import NaiveBayesClassifier\n",
    "import nltk\n",
    "nltk.download('punkt')"
   ]
  },
  {
   "cell_type": "code",
   "execution_count": 18,
   "metadata": {},
   "outputs": [],
   "source": [
    "import csv\n",
    "import collections"
   ]
  },
  {
   "cell_type": "code",
   "execution_count": 19,
   "metadata": {},
   "outputs": [],
   "source": [
    "f = open('Software_neg1_to_1_20.csv')\n",
    "csv_f = csv.reader(f)\n",
    "rows = []\n",
    "for row in csv_f:\n",
    "    if row:\n",
    "        if float(row[0]) < 0:\n",
    "            rows.append([row[1] , \",neg\"])\n",
    "        elif float(row[0]) > 0:\n",
    "            rows.append([row[1], \",pos\"])\n",
    "rows\n",
    "with open('train.csv', 'w', encoding='UTF8', newline='') as f:\n",
    "    writer = csv.writer(f)\n",
    "    # write multiple rows\n",
    "    writer.writerows(rows)"
   ]
  },
  {
   "cell_type": "code",
   "execution_count": 20,
   "metadata": {},
   "outputs": [],
   "source": [
    "with open('train.csv', 'r') as fp:\n",
    "    cl = NaiveBayesClassifier(fp, format=\"csv\")"
   ]
  },
  {
   "cell_type": "code",
   "execution_count": 117,
   "metadata": {},
   "outputs": [
    {
     "name": "stdout",
     "output_type": "stream",
     "text": [
      "693 4 161 25 117\n"
     ]
    }
   ],
   "source": [
    "zero = 0\n",
    "f = open('Software_neg1_to_1_1000.csv')\n",
    "csv_f = csv.reader(f)\n",
    "TP = 0\n",
    "TN = 0\n",
    "FP = 0\n",
    "FN = 0\n",
    "FPValues = collections.defaultdict(int)\n",
    "FNValues = collections.defaultdict(int)\n",
    "for row in csv_f:\n",
    "    if row:\n",
    "        total += 1\n",
    "        if total > 20:\n",
    "            prob_dist = cl.prob_classify(row[1])\n",
    "            res = cl.classify(row[1])\n",
    "            round(prob_dist.prob(\"pos\"), 2)\n",
    "            if (float(row[0]) < 0 and res == \",neg\"):\n",
    "                TN += 1\n",
    "            elif (float(row[0]) > 0 and res == \",pos\"):\n",
    "                TP += 1\n",
    "            elif (float(row[0]) > 0): #Supposed to be positive but yielded negative\n",
    "                FNValues[round(prob_dist.prob(\",neg\"), 2)] += 1\n",
    "                FN += 1\n",
    "            elif float(row[0]) < 0:\n",
    "                FPValues[round(prob_dist.prob(\",pos\"), 2)] += 1\n",
    "                FP += 1\n",
    "            else:\n",
    "                zero += 1\n",
    "\n",
    "print(TP, TN, FP, FN, zero)"
   ]
  },
  {
   "cell_type": "code",
   "execution_count": 118,
   "metadata": {},
   "outputs": [
    {
     "name": "stdout",
     "output_type": "stream",
     "text": [
      "defaultdict(<class 'int'>, {1.0: 156, 0.94: 1, 0.99: 2, 0.97: 1, 0.91: 1}) defaultdict(<class 'int'>, {1.0: 20, 0.93: 1, 0.5: 1, 0.98: 1, 0.69: 1, 0.64: 1})\n"
     ]
    }
   ],
   "source": [
    "print(FPValues, FNValues)"
   ]
  },
  {
   "cell_type": "code",
   "execution_count": 96,
   "metadata": {},
   "outputs": [
    {
     "name": "stdout",
     "output_type": "stream",
     "text": [
      "Precision:  0.8104886769964244\n",
      "Recall:  0.9645390070921985\n",
      "F1-Score:  0.8808290155440416\n",
      "Accuracy  0.6979591836734694\n"
     ]
    }
   ],
   "source": [
    "Precision = TP / (TP + FP)\n",
    "Recall = TP / (TP + FN)\n",
    "FMeasure = (2 * Precision * Recall) / (Precision + Recall)\n",
    "print(\"Precision: \", Precision)\n",
    "print(\"Recall: \", Recall)\n",
    "print(\"F1-Score: \", FMeasure)\n",
    "print(\"Accuracy \", (TP + TN)/980)"
   ]
  },
  {
   "cell_type": "code",
   "execution_count": 117,
   "metadata": {},
   "outputs": [],
   "source": [
    "import numpy as np\n",
    "zero = 0\n",
    "total = 0\n",
    "#X is Predicted Label, Y is True Label\n",
    "data = np.zeros((5,5))\n",
    "trueLabels = {-1: 0, -.5: 1, 0: 2, .5: 3, 1: 4}\n",
    "ans = []\n",
    "f = open('Software_neg1_to_1_200.csv')\n",
    "csv_f = csv.reader(f)\n",
    "for row in csv_f:\n",
    "    if row:\n",
    "        total += 1\n",
    "        ans.append([TextBlob(row[1]).sentiment.polarity, float(row[0])])"
   ]
  },
  {
   "cell_type": "code",
   "execution_count": 118,
   "metadata": {},
   "outputs": [
    {
     "name": "stdout",
     "output_type": "stream",
     "text": [
      "[[ 0.  0.  0.  0.  0.]\n",
      " [ 1.  1.  0.  0.  0.]\n",
      " [16. 13. 20. 31. 49.]\n",
      " [ 1.  0.  7. 14. 44.]\n",
      " [ 0.  0.  0.  0.  3.]]\n"
     ]
    }
   ],
   "source": [
    "data = np.zeros((5,5))\n",
    "labels = {-1: 0, -.5: 1, 0: 2, .5: 3, 1: 4}\n",
    "for predicted, true in ans:\n",
    "    mini = float('inf')\n",
    "    for i in [-1, -.5, 0, .5, 1]:\n",
    "        if abs(predicted - i) < mini:\n",
    "            mini = abs(predicted - i)\n",
    "            predict = i\n",
    "    data[labels[predict]][labels[true]] += 1\n",
    "#Y axis is predicted label and x axis is true label\n",
    "print(data)"
   ]
  },
  {
   "cell_type": "code",
   "execution_count": 119,
   "metadata": {},
   "outputs": [
    {
     "name": "stdout",
     "output_type": "stream",
     "text": [
      "[[0.    0.    0.    0.    0.   ]\n",
      " [0.005 0.005 0.    0.    0.   ]\n",
      " [0.08  0.065 0.1   0.155 0.245]\n",
      " [0.005 0.    0.035 0.07  0.22 ]\n",
      " [0.    0.    0.    0.    0.015]]\n"
     ]
    }
   ],
   "source": [
    "for x in range(len(data)):\n",
    "    for y in range(len(data[x])):\n",
    "        data[x][y] /= total\n",
    "print(data)\n",
    "#[predicted][actual] coords, we want to look at top left to bottom right diagonal to see correct guesses"
   ]
  },
  {
   "cell_type": "code",
   "execution_count": 120,
   "metadata": {},
   "outputs": [
    {
     "name": "stdout",
     "output_type": "stream",
     "text": [
      "0.19\n"
     ]
    }
   ],
   "source": [
    "accuracy = 0\n",
    "for i in range(5):\n",
    "    accuracy += data[i][i]\n",
    "print(accuracy)"
   ]
  }
 ],
 "metadata": {
  "kernelspec": {
   "display_name": "Python 3",
   "language": "python",
   "name": "python3"
  },
  "language_info": {
   "codemirror_mode": {
    "name": "ipython",
    "version": 3
   },
   "file_extension": ".py",
   "mimetype": "text/x-python",
   "name": "python",
   "nbconvert_exporter": "python",
   "pygments_lexer": "ipython3",
   "version": "3.7.3"
  }
 },
 "nbformat": 4,
 "nbformat_minor": 2
}
